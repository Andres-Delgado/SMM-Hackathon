{
 "cells": [
  {
   "cell_type": "markdown",
   "metadata": {},
   "source": [
    "# Extracts information from status list"
   ]
  },
  {
   "cell_type": "code",
   "execution_count": null,
   "metadata": {},
   "outputs": [],
   "source": [
    "#Takes in a list of statuses, extracts info from the status and places into dictionart\n",
    "def extract_data(statuses, mydictionary, day_number):\n",
    "    '''\n",
    "    Parameters:\n",
    "    Statuses(list) - Iterates over a list of statuses\n",
    "    mydictionary - Dictionary to be filled in\n",
    "    day_number - Day number to be filled in dictionary\n",
    "    \n",
    "    I excluded the code for searching all the statuses for a given day, since Logan is doing this.\n",
    "    All this function serves to do is extract the information and fill in the corresponding fields\n",
    "    in the dictionary.\n",
    "    \n",
    "    '''\n",
    "    day_number = 'day' + str(day_number)\n",
    "    for i in statuses:\n",
    "        try:\n",
    "            mydictionary[day_number]['created_at'].append(i['created_at'])\n",
    "            mydictionary[day_number]['followers_count'].append(i['user']['followers_count'])\n",
    "            mydictionary[day_number]['retweets_count'].append(i['retweet_count'])\n",
    "            mydictionary[day_number]['lang'].append(i['user']['lang'])\n",
    "        except (KeyError):\n",
    "            continue\n",
    "\n",
    "\n"
   ]
  }
 ],
 "metadata": {
  "kernelspec": {
   "display_name": "Python 3",
   "language": "python",
   "name": "python3"
  },
  "language_info": {
   "codemirror_mode": {
    "name": "ipython",
    "version": 3
   },
   "file_extension": ".py",
   "mimetype": "text/x-python",
   "name": "python",
   "nbconvert_exporter": "python",
   "pygments_lexer": "ipython3",
   "version": "3.6.5"
  }
 },
 "nbformat": 4,
 "nbformat_minor": 2
}
