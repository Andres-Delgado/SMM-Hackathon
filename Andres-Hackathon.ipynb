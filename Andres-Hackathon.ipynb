{
 "cells": [
  {
   "cell_type": "markdown",
   "metadata": {},
   "source": [
    "# Social Media Mining - Hackathon "
   ]
  },
  {
   "cell_type": "markdown",
   "metadata": {},
   "source": [
    "## Predicting the Popularity of Online Content\n",
    "Replicate and extend the article (link below) for predicting online content popularity using Twitter hashtags. Applying a method to a different dataset often entails making different choices from the ones of the original authors. Describe your experience and motivate your unique approach.\n",
    "\n",
    "### Dataset\n",
    "Using the Twitter Streaming API, you will collect a dataset of Twitter hashtags.\n",
    "\n",
    "### References\n",
    "- [Link to article](http://www.hpl.hp.com/research/scl/papers/predictions/predictions.pdf)\n",
    "- [Twitter Streaming API](https://developer.twitter.com/en/docs/tweets/sample-realtime/overview/GET_statuse_sample)\n"
   ]
  },
  {
   "cell_type": "code",
   "execution_count": 1,
   "metadata": {},
   "outputs": [],
   "source": [
    "import twitter\n",
    "import json\n",
    "import os\n",
    "\n",
    "CONSUMER_KEY = 'n3klbsDYyvvk1IxCEvm7W3tGw'\n",
    "CONSUMER_SECRET ='CJZ71dbUlhjDu7DyzawOCBMPkltdpw6816WZ3WUgC8rbOcKSs8'\n",
    "OAUTH_TOKEN = '1031697780417417216-TwltGeXHoG0eybrj8tF1AAckCj2bDb'\n",
    "OAUTH_TOKEN_SECRET = 'skAVmJwY1BhbrPWAeJB5uOWMacpikpYw2n8XAXnUI3TwU'\n",
    "\n",
    "auth = twitter.oauth.OAuth(OAUTH_TOKEN, OAUTH_TOKEN_SECRET,\n",
    "                           CONSUMER_KEY, CONSUMER_SECRET)\n",
    "\n",
    "twitter_api = twitter.Twitter(auth=auth)\n",
    "tStream = twitter.TwitterStream(auth = auth)\n",
    "tSample = tStream.statuses.sample() # stream sample\n"
   ]
  },
  {
   "cell_type": "markdown",
   "metadata": {},
   "source": [
    "### NameFile() creates a file name to make sure we don't overwite previous sample"
   ]
  },
  {
   "cell_type": "code",
   "execution_count": 2,
   "metadata": {},
   "outputs": [],
   "source": [
    "def NameFile():\n",
    "    pathName = os.path.join('Data', 'Tweets')\n",
    "    \n",
    "    if not os.path.isfile(pathName + '.json'):\n",
    "        return pathName + '.json'\n",
    "    \n",
    "    count = 1\n",
    "    while (os.path.isfile(pathName + str(count) + '.json')):\n",
    "        count += 1\n",
    "            \n",
    "    return pathName + str(count) + '.json'"
   ]
  },
  {
   "cell_type": "markdown",
   "metadata": {},
   "source": [
    "### StoreTweets() writes sampled tweets to ../Data/Tweets.json\n",
    "Filters out deleted tweets and tweets without hashtags"
   ]
  },
  {
   "cell_type": "code",
   "execution_count": 3,
   "metadata": {},
   "outputs": [],
   "source": [
    "def StoreTweets(pathToTweets):\n",
    "    with open(os.path.join(pathToTweets), 'w') as f:\n",
    "        f.write('[')\n",
    "\n",
    "        count = 0\n",
    "        for tweet in tSample:\n",
    "            if (list(tweet.keys())[0] != 'delete') and (tweet.get('entities', False)):\n",
    "                if tweet['entities'].get('hashtags', False):\n",
    "                    count += 1\n",
    "                    json.dump(tweet, f)\n",
    "                    if count < 5000: f.write(',\\n')\n",
    "                    else: break\n",
    "        f.write(']')\n",
    "        f.close()\n",
    "        print(count, \"tweets written to file\")\n",
    "        return\n",
    "    \n",
    "#pathToTweets = NameFile()\n",
    "#StoreTweets(pathToTweets)  "
   ]
  },
  {
   "cell_type": "markdown",
   "metadata": {},
   "source": [
    "### LoadTweets() opens the file and returns a list of tweets\n",
    "Each tweet is a dictionary"
   ]
  },
  {
   "cell_type": "code",
   "execution_count": 4,
   "metadata": {},
   "outputs": [],
   "source": [
    "def LoadTweets(pathName):    \n",
    "    if os.path.isfile(pathName):\n",
    "        file = open(os.path.join(pathName), 'r')\n",
    "        return json.load(file)\n",
    "    else: print(\"File not in directory\")\n",
    "\n",
    "tweets = LoadTweets(os.path.join('Data', 'Tweets.json'))"
   ]
  },
  {
   "cell_type": "markdown",
   "metadata": {},
   "source": [
    "### Test"
   ]
  },
  {
   "cell_type": "code",
   "execution_count": 5,
   "metadata": {},
   "outputs": [
    {
     "name": "stdout",
     "output_type": "stream",
     "text": [
      "Tweet 0 hashtags:\n",
      "{'text': 'いいねの数だけ好きなものを言う見た人もやる', 'indices': [0, 22]}\n",
      "\n",
      "Tweet 1 hashtags:\n",
      "{'text': 'HappyBirthdayHughJackman', 'indices': [17, 42]}\n",
      "\n",
      "Tweet 2 hashtags:\n",
      "{'text': '両毛線', 'indices': [0, 4]}\n",
      "{'text': '遅延', 'indices': [5, 8]}\n",
      "{'text': '高崎駅', 'indices': [9, 13]}\n",
      "{'text': '高崎問屋町駅', 'indices': [20, 27]}\n",
      "\n",
      "Tweet 3 hashtags:\n",
      "{'text': 'GOT7', 'indices': [133, 138]}\n",
      "{'text': '갓세븐', 'indices': [139, 143]}\n",
      "\n",
      "Tweet 4 hashtags:\n",
      "{'text': 'فوز', 'indices': [46, 50]}\n",
      "\n",
      "Tweet 5 hashtags:\n",
      "{'text': 'asianparagames', 'indices': [99, 114]}\n",
      "\n",
      "Tweet 6 hashtags:\n",
      "{'text': 'フォートナイト', 'indices': [60, 68]}\n",
      "{'text': 'フォートナイトフレンド募集', 'indices': [69, 83]}\n",
      "{'text': 'DBD', 'indices': [85, 89]}\n",
      "{'text': 'デットバイデイライトPS4', 'indices': [91, 105]}\n",
      "{'text': 'デットバイデイライト', 'indices': [107, 118]}\n",
      "{'text': '地球防衛軍5', 'indices': [119, 126]}\n",
      "{'text': 'フレンド募集中', 'indices': [128, 136]}\n",
      "\n",
      "Tweet 7 hashtags:\n",
      "{'text': 'earnmoney', 'indices': [67, 77]}\n",
      "{'text': 'onlinebiz', 'indices': [78, 88]}\n",
      "{'text': 'businessopportunity', 'indices': [89, 109]}\n",
      "{'text': 'workathome', 'indices': [110, 121]}\n",
      "{'text': 'internetbusiness', 'indices': [122, 139]}\n",
      "\n",
      "Tweet 8 hashtags:\n",
      "{'text': 'Cumplefranuis', 'indices': [59, 73]}\n",
      "\n",
      "Tweet 9 hashtags:\n",
      "{'text': 'Aladdin', 'indices': [57, 65]}\n",
      "\n",
      "Tweet 10 hashtags:\n",
      "{'text': 'Monterrey', 'indices': [113, 123]}\n",
      "\n"
     ]
    }
   ],
   "source": [
    "for i, tweet in enumerate(tweets):\n",
    "    print(\"Tweet {} hashtags:\".format(i))\n",
    "    print(*tweet['entities']['hashtags'], sep = '\\n', end = '\\n\\n')\n",
    "    if i > 9: break\n",
    "\n",
    "    "
   ]
  },
  {
   "cell_type": "code",
   "execution_count": null,
   "metadata": {},
   "outputs": [],
   "source": []
  }
 ],
 "metadata": {
  "kernelspec": {
   "display_name": "Python 3",
   "language": "python",
   "name": "python3"
  },
  "language_info": {
   "codemirror_mode": {
    "name": "ipython",
    "version": 3
   },
   "file_extension": ".py",
   "mimetype": "text/x-python",
   "name": "python",
   "nbconvert_exporter": "python",
   "pygments_lexer": "ipython3",
   "version": "3.6.5"
  }
 },
 "nbformat": 4,
 "nbformat_minor": 2
}
