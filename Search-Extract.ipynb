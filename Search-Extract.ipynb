{
 "cells": [
  {
   "cell_type": "code",
   "execution_count": 102,
   "metadata": {},
   "outputs": [],
   "source": [
    "import twitter\n",
    "import json\n",
    "import os\n",
    "import time\n",
    "#search function is under ./Code/search.py\n",
    "import sys\n",
    "sys.path.append(\"./Code/\") #add the path with the code so that it can be imported\n",
    "import search\n"
   ]
  },
  {
   "cell_type": "markdown",
   "metadata": {},
   "source": [
    "## LoadFile() opens the specified file and returns a json object of its contents\n"
   ]
  },
  {
   "cell_type": "code",
   "execution_count": 104,
   "metadata": {},
   "outputs": [],
   "source": [
    "def LoadFile(pathName):\n",
    "    if os.path.isfile(pathName):\n",
    "        file = open(os.path.join(pathName), 'r')\n",
    "        return json.load(file)\n",
    "    else: print(\"File not in directory\")"
   ]
  },
  {
   "cell_type": "code",
   "execution_count": 105,
   "metadata": {},
   "outputs": [],
   "source": [
    "# Will sleep for n seconds\n",
    "\n",
    "def trusty_sleep(n):\n",
    "    start = time.time()\n",
    "    while (time.time() - start < n):\n",
    "        time.sleep(n - (time.time() - start))"
   ]
  },
  {
   "cell_type": "markdown",
   "metadata": {},
   "source": [
    "## Extract"
   ]
  },
  {
   "cell_type": "code",
   "execution_count": 106,
   "metadata": {},
   "outputs": [],
   "source": [
    "#Takes in a list of statuses, extracts info from the status and places into dictionart\n",
    "def extract_data(statuses, mydictionary, day_number):\n",
    "    '''\n",
    "    Parameters:\n",
    "    Statuses(list) - Iterates over a list of statuses\n",
    "    mydictionary - Dictionary to be filled in\n",
    "    day_number - Day number to be filled in dictionary\n",
    "    \n",
    "    I excluded the code for searching all the statuses for a given day, since Logan is doing this.\n",
    "    All this function serves to do is extract the information and fill in the corresponding fields\n",
    "    in the dictionary.\n",
    "    \n",
    "    '''\n",
    "    day_number = 'day' + str(day_number)\n",
    "    for i in statuses:\n",
    "        try:\n",
    "            mydictionary[day_number]['created_at'].append(i['created_at'])\n",
    "            mydictionary[day_number]['followers_count'].append(i['user']['followers_count'])\n",
    "            mydictionary[day_number]['retweet_count'].append(i['retweet_count'])\n",
    "            # Increments the count of lang if the lang exists, else intializes it with value 1\n",
    "            mydictionary[day_number]['lang'][i['user']['lang']] = mydictionary[day_number]['lang'].get(i['user']['lang'], 0) + 1\n",
    "            # favorite_count is nullable, so it may not exist\n",
    "            if i.get('favorite_count', False):\n",
    "                mydictionary[day_number]['favorite_count'].append(i['favorite_count'])\n",
    "        except (KeyError):\n",
    "            continue\n",
    "            \n",
    "    #print(json.dumps(tempdict, indent = 1))"
   ]
  },
  {
   "cell_type": "markdown",
   "metadata": {},
   "source": [
    "## Search"
   ]
  },
  {
   "cell_type": "code",
   "execution_count": 107,
   "metadata": {
    "scrolled": true
   },
   "outputs": [],
   "source": [
    "def DaySearch(htDictionary, tagIndex, startDay, endDay):\n",
    "    '''\n",
    "    htDictionary: The hashtags dictionary from file\n",
    "    tagIndex: The \"index\" of the current hashtag being searched\n",
    "    startDay: The starting calendar day for the search\n",
    "    endDay: The ending calendar day for the search\n",
    "    \n",
    "    I'm calling searchOverRange function per day instead \n",
    "    of using it for multiple days to implement Sleep.'''\n",
    "    \n",
    "    holdResults = []\n",
    "    currentHashtag = list(htDictionary.items())[tagIndex]\n",
    "    for day, details in currentHashtag[1].items():\n",
    "        try:\n",
    "            results = search.searchOverRange(currentHashtag[0], 2018, 10, startDay, 2018, 10, startDay+1, debug=1)\n",
    "        except:\n",
    "            print(\"\\nStopped at day {}\".format(startDay))\n",
    "            break\n",
    "        if not results: break\n",
    "        try:\n",
    "            #print(\"{} requests remaining\\n\".format(results[-1]['metadata']['x-rate-limit-remaining']))\n",
    "            numRequests = results[-1]['metadata']['x-rate-limit-remaining']\n",
    "            print(\"Requests remaining: {}\".format(numRequests))\n",
    "        except: \n",
    "            print(\"\\nStopped at day {}\".format(startDay))\n",
    "            break\n",
    "            \n",
    "        holdResults.append(results[0])\n",
    "        startDay += 1\n",
    "        if startDay >= endDay: break\n",
    "        elif int(results[-1]['metadata']['x-rate-limit-remaining']) == 0: break    \n",
    "    return holdResults"
   ]
  },
  {
   "cell_type": "markdown",
   "metadata": {},
   "source": [
    "## Search/Extract \n",
    "`startingIndex` and `endingIndex` are used to split up the searches.\n",
    "\n",
    "for example: `startingIndex = 100` and `endingIndex = 199` will search/extract the 100-199 hashtags in the hashtags dictionary\n"
   ]
  },
  {
   "cell_type": "code",
   "execution_count": null,
   "metadata": {},
   "outputs": [],
   "source": [
    "# this will hold the hashtags we extract in the same format as the hashtags dictionary\n",
    "\n",
    "##############################################################################\n",
    "##############################################################################\n",
    "#\n",
    "# RE-RUNNING THIS CELL WILL DELETE ALL PREVIOUS DATA SAVED IN DATADICTIONARY #\n",
    "#\n",
    "##############################################################################\n",
    "##############################################################################\n",
    "\n",
    "dataDictionary = {}"
   ]
  },
  {
   "cell_type": "code",
   "execution_count": 108,
   "metadata": {},
   "outputs": [
    {
     "name": "stdout",
     "output_type": "stream",
     "text": [
      "\n",
      "Searching hashtag: رنيه\n",
      "index 0\n",
      "\n",
      "Error 429: ('Too Many Requests: Request cannot be served ', \"due to the application's rate limit having \", 'been exhausted for the resource')\n",
      "\n",
      "Stopped at day 12\n",
      "Sleeping...\n"
     ]
    },
    {
     "ename": "KeyboardInterrupt",
     "evalue": "",
     "output_type": "error",
     "traceback": [
      "\u001b[0;31m---------------------------------------------------------------------------\u001b[0m",
      "\u001b[0;31mKeyboardInterrupt\u001b[0m                         Traceback (most recent call last)",
      "\u001b[0;32m<ipython-input-108-54898b5a1385>\u001b[0m in \u001b[0;36m<module>\u001b[0;34m()\u001b[0m\n\u001b[1;32m     28\u001b[0m         \u001b[0;32mif\u001b[0m \u001b[0;34m(\u001b[0m\u001b[0mresultList\u001b[0m \u001b[0;34m==\u001b[0m \u001b[0;34m[\u001b[0m\u001b[0;34m]\u001b[0m\u001b[0;34m)\u001b[0m \u001b[0;32mor\u001b[0m \u001b[0;34m(\u001b[0m\u001b[0mint\u001b[0m\u001b[0;34m(\u001b[0m\u001b[0mresultList\u001b[0m\u001b[0;34m[\u001b[0m\u001b[0;34m-\u001b[0m\u001b[0;36m1\u001b[0m\u001b[0;34m]\u001b[0m\u001b[0;34m[\u001b[0m\u001b[0;34m'metadata'\u001b[0m\u001b[0;34m]\u001b[0m\u001b[0;34m[\u001b[0m\u001b[0;34m'x-rate-limit-remaining'\u001b[0m\u001b[0;34m]\u001b[0m\u001b[0;34m)\u001b[0m \u001b[0;34m==\u001b[0m \u001b[0;36m0\u001b[0m\u001b[0;34m)\u001b[0m\u001b[0;34m:\u001b[0m\u001b[0;34m\u001b[0m\u001b[0m\n\u001b[1;32m     29\u001b[0m             \u001b[0mprint\u001b[0m\u001b[0;34m(\u001b[0m\u001b[0;34m\"Sleeping...\"\u001b[0m\u001b[0;34m)\u001b[0m\u001b[0;34m\u001b[0m\u001b[0m\n\u001b[0;32m---> 30\u001b[0;31m             \u001b[0mtrusty_sleep\u001b[0m\u001b[0;34m(\u001b[0m\u001b[0;36m930\u001b[0m\u001b[0;34m)\u001b[0m\u001b[0;34m\u001b[0m\u001b[0m\n\u001b[0m\u001b[1;32m     31\u001b[0m             \u001b[0mprint\u001b[0m\u001b[0;34m(\u001b[0m\u001b[0;34m\"Resuming :)\\n\"\u001b[0m\u001b[0;34m)\u001b[0m\u001b[0;34m\u001b[0m\u001b[0m\n\u001b[1;32m     32\u001b[0m \u001b[0;34m\u001b[0m\u001b[0m\n",
      "\u001b[0;32m<ipython-input-105-56a47961b504>\u001b[0m in \u001b[0;36mtrusty_sleep\u001b[0;34m(n)\u001b[0m\n\u001b[1;32m      4\u001b[0m     \u001b[0mstart\u001b[0m \u001b[0;34m=\u001b[0m \u001b[0mtime\u001b[0m\u001b[0;34m.\u001b[0m\u001b[0mtime\u001b[0m\u001b[0;34m(\u001b[0m\u001b[0;34m)\u001b[0m\u001b[0;34m\u001b[0m\u001b[0m\n\u001b[1;32m      5\u001b[0m     \u001b[0;32mwhile\u001b[0m \u001b[0;34m(\u001b[0m\u001b[0mtime\u001b[0m\u001b[0;34m.\u001b[0m\u001b[0mtime\u001b[0m\u001b[0;34m(\u001b[0m\u001b[0;34m)\u001b[0m \u001b[0;34m-\u001b[0m \u001b[0mstart\u001b[0m \u001b[0;34m<\u001b[0m \u001b[0mn\u001b[0m\u001b[0;34m)\u001b[0m\u001b[0;34m:\u001b[0m\u001b[0;34m\u001b[0m\u001b[0m\n\u001b[0;32m----> 6\u001b[0;31m         \u001b[0mtime\u001b[0m\u001b[0;34m.\u001b[0m\u001b[0msleep\u001b[0m\u001b[0;34m(\u001b[0m\u001b[0mn\u001b[0m \u001b[0;34m-\u001b[0m \u001b[0;34m(\u001b[0m\u001b[0mtime\u001b[0m\u001b[0;34m.\u001b[0m\u001b[0mtime\u001b[0m\u001b[0;34m(\u001b[0m\u001b[0;34m)\u001b[0m \u001b[0;34m-\u001b[0m \u001b[0mstart\u001b[0m\u001b[0;34m)\u001b[0m\u001b[0;34m)\u001b[0m\u001b[0;34m\u001b[0m\u001b[0m\n\u001b[0m",
      "\u001b[0;31mKeyboardInterrupt\u001b[0m: "
     ]
    }
   ],
   "source": [
    "###########################\n",
    "# CHANGE PARTITION NUMBER #\n",
    "###########################\n",
    "hashtags = LoadFile(os.path.join('Data', 'Tweets-Hashtags-Partition1.json'))\n",
    "\n",
    "\n",
    "# To search in parts\n",
    "startingIndex = 0\n",
    "endingIndex = 20 # the max would be len(hashtags)\n",
    "\n",
    "\n",
    "for tagIndex in range(startingIndex, endingIndex):\n",
    "    tagString = list(hashtags.items())[tagIndex][0]\n",
    "    dayDictionary = dict(list(hashtags.items())[tagIndex][1])\n",
    "    print(\"\\nSearching hashtag: {}\\nindex {}\\n\".format(tagString, tagIndex))\n",
    "    \n",
    "    daycount = 0\n",
    "    for x in range(12, 19):\n",
    "        #print(tagString)\n",
    "        #print(dayDictionary.keys(), end = '\\n\\n')\n",
    "        \n",
    "        resultList = DaySearch(hashtags, tagIndex, x, x+1)\n",
    "        if (resultList != [[]]) and (resultList != []):\n",
    "            dayDictionary['day' + str(daycount)]['occurrences'] = resultList[0]['numberOfTweets']\n",
    "            extract_data(resultList[0]['tweets'], dayDictionary, daycount)\n",
    "            dataDictionary[tagString] = dict(dayDictionary)\n",
    "            \n",
    "        if (resultList == []) or (int(resultList[-1]['metadata']['x-rate-limit-remaining']) == 0):\n",
    "            print(\"Sleeping...\")\n",
    "            trusty_sleep(930)\n",
    "            print(\"Resuming :)\\n\")\n",
    "        \n",
    "        \n",
    "        daycount +=1\n"
   ]
  },
  {
   "cell_type": "markdown",
   "metadata": {},
   "source": [
    "## Testing"
   ]
  },
  {
   "cell_type": "code",
   "execution_count": null,
   "metadata": {},
   "outputs": [],
   "source": []
  },
  {
   "cell_type": "code",
   "execution_count": 109,
   "metadata": {},
   "outputs": [
    {
     "name": "stdout",
     "output_type": "stream",
     "text": [
      "25\n"
     ]
    }
   ],
   "source": [
    "print(len(dataDictionary))#['トレクル']['day0']['retweet_count']))"
   ]
  },
  {
   "cell_type": "code",
   "execution_count": 110,
   "metadata": {},
   "outputs": [
    {
     "name": "stdout",
     "output_type": "stream",
     "text": [
      "رنيه\n",
      "  day0 occurrences: 43\n",
      "  day1 occurrences: 45\n",
      "  day2 occurrences: 42\n",
      "  day3 occurrences: 23\n",
      "  day4 occurrences: 97\n",
      "  day5 occurrences: 35\n",
      "  day6 occurrences: 13\n",
      "アズールレーン\n",
      "  day0 occurrences: 44\n",
      "  day1 occurrences: 29\n",
      "  day2 occurrences: 37\n",
      "  day3 occurrences: 28\n",
      "  day4 occurrences: 28\n",
      "  day5 occurrences: 32\n",
      "  day6 occurrences: 25\n",
      "トレクル\n",
      "  day0 occurrences: 16600\n",
      "  day1 occurrences: 0\n",
      "  day2 occurrences: 0\n",
      "  day3 occurrences: 0\n",
      "  day4 occurrences: 0\n",
      "  day5 occurrences: 0\n",
      "  day6 occurrences: 0\n",
      "pornlife\n",
      "  day0 occurrences: 7\n",
      "  day1 occurrences: 0\n",
      "  day2 occurrences: 3\n",
      "  day3 occurrences: 1\n",
      "  day4 occurrences: 0\n",
      "  day5 occurrences: 1\n",
      "  day6 occurrences: 2\n",
      "NuVolución\n",
      "  day0 occurrences: 260\n",
      "  day1 occurrences: 42\n",
      "  day2 occurrences: 1\n",
      "  day3 occurrences: 1\n",
      "  day4 occurrences: 0\n",
      "  day5 occurrences: 0\n",
      "  day6 occurrences: 0\n",
      "ゆららぎBot\n",
      "  day0 occurrences: 22\n",
      "  day1 occurrences: 21\n",
      "  day2 occurrences: 28\n",
      "  day3 occurrences: 18\n",
      "  day4 occurrences: 25\n",
      "  day5 occurrences: 27\n",
      "  day6 occurrences: 19\n",
      "DePrimeraMano\n",
      "  day0 occurrences: 146\n",
      "  day1 occurrences: 60\n",
      "  day2 occurrences: 12\n",
      "  day3 occurrences: 78\n",
      "  day4 occurrences: 108\n",
      "  day5 occurrences: 97\n",
      "  day6 occurrences: 137\n",
      "พี่สิงห์อยากมีน้องเสือเจน2\n",
      "  day0 occurrences: 48\n",
      "  day1 occurrences: 48\n",
      "  day2 occurrences: 65\n",
      "  day3 occurrences: 0\n",
      "  day4 occurrences: 0\n",
      "  day5 occurrences: 5\n",
      "  day6 occurrences: 1\n",
      "タメ口で絡んでもいいよって人いいねしてください\n",
      "  day0 occurrences: 35\n",
      "  day1 occurrences: 31\n",
      "  day2 occurrences: 53\n",
      "  day3 occurrences: 46\n",
      "  day4 occurrences: 39\n",
      "  day5 occurrences: 64\n",
      "  day6 occurrences: 39\n",
      "献本\n",
      "  day0 occurrences: 69\n",
      "  day1 occurrences: 44\n",
      "  day2 occurrences: 47\n",
      "  day3 occurrences: 26\n",
      "  day4 occurrences: 36\n",
      "  day5 occurrences: 32\n",
      "  day6 occurrences: 31\n",
      "soundcloud\n",
      "  day0 occurrences: 596\n",
      "  day1 occurrences: 699\n",
      "  day2 occurrences: 499\n",
      "  day3 occurrences: 799\n",
      "  day4 occurrences: 399\n",
      "  day5 occurrences: 194\n",
      "  day6 occurrences: 2594\n",
      "欅坂46\n",
      "  day0 occurrences: 92\n",
      "  day1 occurrences: 97\n",
      "  day2 occurrences: 84\n",
      "  day3 occurrences: 90\n",
      "  day4 occurrences: 96\n",
      "  day5 occurrences: 98\n",
      "  day6 occurrences: 61\n",
      "himoryu\n",
      "  day0 occurrences: 56\n",
      "  day1 occurrences: 13\n",
      "  day2 occurrences: 3\n",
      "  day3 occurrences: 4\n",
      "  day4 occurrences: 14\n",
      "  day5 occurrences: 4\n",
      "  day6 occurrences: 3\n",
      "imas_cg\n",
      "  day0 occurrences: 84\n",
      "  day1 occurrences: 78\n",
      "  day2 occurrences: 70\n",
      "  day3 occurrences: 73\n",
      "  day4 occurrences: 0\n",
      "  day5 occurrences: 73\n",
      "  day6 occurrences: 74\n",
      "balloons\n",
      "  day0 occurrences: 99\n",
      "  day1 occurrences: 207\n",
      "  day2 occurrences: 97\n",
      "  day3 occurrences: 76\n",
      "  day4 occurrences: 80\n",
      "  day5 occurrences: 91\n",
      "  day6 occurrences: 84\n",
      "BCGS\n",
      "  day0 occurrences: 5\n",
      "  day1 occurrences: 3\n",
      "  day2 occurrences: 2\n",
      "  day3 occurrences: 1\n",
      "  day4 occurrences: 0\n",
      "  day5 occurrences: 0\n",
      "  day6 occurrences: 0\n",
      "巨乳\n",
      "  day0 occurrences: 38\n",
      "  day1 occurrences: 48\n",
      "  day2 occurrences: 44\n",
      "  day3 occurrences: 38\n",
      "  day4 occurrences: 42\n",
      "  day5 occurrences: 36\n",
      "  day6 occurrences: 43\n",
      "oldpost\n",
      "  day0 occurrences: 67\n",
      "  day1 occurrences: 58\n",
      "  day2 occurrences: 59\n",
      "  day3 occurrences: 66\n",
      "  day4 occurrences: 65\n",
      "  day5 occurrences: 67\n",
      "  day6 occurrences: 60\n",
      "art\n",
      "  day0 occurrences: 594\n",
      "  day1 occurrences: 91\n",
      "  day2 occurrences: 93\n",
      "  day3 occurrences: 95\n",
      "  day4 occurrences: 197\n",
      "  day5 occurrences: 99\n",
      "  day6 occurrences: 198\n",
      "DQX\n",
      "  day0 occurrences: 91\n",
      "  day1 occurrences: 833\n",
      "  day2 occurrences: 186\n",
      "  day3 occurrences: 599\n",
      "  day4 occurrences: 99\n",
      "  day5 occurrences: 89\n",
      "  day6 occurrences: 95\n",
      "猫恋人\n",
      "  day0 occurrences: 126\n",
      "  day1 occurrences: 48\n",
      "  day2 occurrences: 18\n",
      "  day3 occurrences: 8\n",
      "  day4 occurrences: 10\n",
      "  day5 occurrences: 12\n",
      "  day6 occurrences: 0\n",
      "gg4eva\n",
      "  day0 occurrences: 66\n",
      "  day1 occurrences: 572\n",
      "  day2 occurrences: 696\n",
      "  day3 occurrences: 795\n",
      "  day4 occurrences: 93\n",
      "  day5 occurrences: 397\n",
      "  day6 occurrences: 486\n",
      "star\n",
      "  day0 occurrences: 96\n",
      "  day1 occurrences: 286\n",
      "  day2 occurrences: 281\n",
      "  day3 occurrences: 84\n",
      "  day4 occurrences: 196\n",
      "  day5 occurrences: 894\n",
      "  day6 occurrences: 94\n",
      "マイジャグ\n",
      "  day0 occurrences: 144\n",
      "  day1 occurrences: 33\n",
      "  day2 occurrences: 12\n",
      "  day3 occurrences: 12\n",
      "  day4 occurrences: 53\n",
      "  day5 occurrences: 16\n",
      "  day6 occurrences: 3\n",
      "고음질\n",
      "  day0 occurrences: 0\n",
      "  day1 occurrences: 0\n",
      "  day2 occurrences: 0\n",
      "  day3 occurrences: 0\n",
      "  day4 occurrences: 0\n",
      "  day5 occurrences: 0\n",
      "  day6 occurrences: 0\n"
     ]
    }
   ],
   "source": [
    "for htag, dayDict in dataDictionary.items():\n",
    "    print(htag)\n",
    "    for day, details in dayDict.items():\n",
    "        print(\"  {} occurrences: {}\".format(day, details['occurrences']))"
   ]
  },
  {
   "cell_type": "code",
   "execution_count": 111,
   "metadata": {},
   "outputs": [
    {
     "name": "stdout",
     "output_type": "stream",
     "text": [
      "('en', 628)\n",
      "('es', 12)\n",
      "('ko', 6)\n",
      "('pt', 51)\n",
      "('ja', 60)\n",
      "('ar', 25)\n",
      "('it', 4)\n",
      "('fr', 6)\n",
      "('tr', 2)\n",
      "('zh-CN', 1)\n",
      "('en-gb', 2)\n",
      "('sv', 2)\n",
      "\n"
     ]
    }
   ],
   "source": [
    "# The first bracket [2] is index, \n",
    "# second bracket [1] is hashtag's days dictionary, or [0] for the hashtag string\n",
    "\n",
    "#print(json.dumps(dataDictionary, indent = 1))\n",
    "print(*list(dataDictionary.items())[10][1]['day3']['lang'].items(), sep = '\\n', end = '\\n\\n')"
   ]
  },
  {
   "cell_type": "markdown",
   "metadata": {},
   "source": [
    "## Stores dataDictionary"
   ]
  },
  {
   "cell_type": "code",
   "execution_count": 112,
   "metadata": {},
   "outputs": [],
   "source": [
    "def StoreHashtags(pathName, htDictionary): \n",
    "    newPath = pathName[:-5] + \"-data.json\"\n",
    "\n",
    "    with open(newPath, 'w') as f:    \n",
    "        json.dump(htDictionary, f)\n",
    "        f.close()\n",
    "    print(\"Stored data in {}\".format(newPath))"
   ]
  },
  {
   "cell_type": "markdown",
   "metadata": {},
   "source": [
    "## Change partition number in case you want to gather data at different intervals or if you reset dataDictionary to ensure you dont overwrite previously saved data"
   ]
  },
  {
   "cell_type": "code",
   "execution_count": 114,
   "metadata": {},
   "outputs": [
    {
     "name": "stdout",
     "output_type": "stream",
     "text": [
      "Stored data in Data/Partition1.2-data.json\n"
     ]
    }
   ],
   "source": [
    "###########################\n",
    "# CHANGE PARTITION NUMBER #\n",
    "###########################\n",
    "\n",
    "StoreHashtags(os.path.join('Data', 'Partition1.2.json'), dataDictionary)"
   ]
  }
 ],
 "metadata": {
  "kernelspec": {
   "display_name": "Python 3",
   "language": "python",
   "name": "python3"
  },
  "language_info": {
   "codemirror_mode": {
    "name": "ipython",
    "version": 3
   },
   "file_extension": ".py",
   "mimetype": "text/x-python",
   "name": "python",
   "nbconvert_exporter": "python",
   "pygments_lexer": "ipython3",
   "version": "3.6.5"
  }
 },
 "nbformat": 4,
 "nbformat_minor": 2
}
